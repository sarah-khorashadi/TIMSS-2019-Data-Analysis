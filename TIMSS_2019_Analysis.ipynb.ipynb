{
 "cells": [
  {
   "cell_type": "code",
   "execution_count": 1,
   "metadata": {},
   "outputs": [],
   "source": [
    "import pandas as pd\n",
    "import numpy as np\n",
    "import matplotlib.pyplot as plt\n",
    "plt.rcParams.update({'figure.max_open_warning': 0})\n",
    "import seaborn as sns"
   ]
  },
  {
   "cell_type": "markdown",
   "metadata": {},
   "source": [
    "## Data Cleaning"
   ]
  },
  {
   "cell_type": "markdown",
   "metadata": {},
   "source": [
    "Fill in missing values, smooth noisy data, identify or remove outliers, and resolve inconsistencies"
   ]
  },
  {
   "cell_type": "code",
   "execution_count": 2,
   "metadata": {},
   "outputs": [],
   "source": [
    "df = pd.read_excel('TIMSS2019.xlsx', index_col=0)\n",
    "\n",
    "# drop columns that contain only null value\n",
    "df = df.dropna(how='all', axis='columns')\n",
    "# drop rows that contain only null value (NOT NEEDED)\n",
    "df = df.dropna(how='all', axis='rows')\n",
    "\n",
    "# drop rows that contain at least one `np.NaN` value in scores\n",
    "df = df.dropna(how='any', axis='rows')\n",
    "\n",
    "df = df.replace(to_replace=[\"A\",\"B\",\"C\",\"D\",\"E\"], value=[5,4,3,2,1])\n",
    "\n",
    "# make sure indexes pair with number of rows\n",
    "df = df.reset_index()"
   ]
  },
  {
   "cell_type": "markdown",
   "metadata": {},
   "source": [
    "Read data from codebook:\n",
    "\n",
    "1. Variable\n",
    "2. Missing Scheme Detailed: SPSS\n",
    "3. Value Scheme Detailed"
   ]
  },
  {
   "cell_type": "code",
   "execution_count": 3,
   "metadata": {},
   "outputs": [],
   "source": [
    "xls = pd.ExcelFile('T2019_G8_Codebook.xlsx')\n",
    "\n",
    "df_BCGM = pd.read_excel(xls, 'BCGM7',  usecols=[\"Variable\", \"Missing Scheme Detailed: SPSS\", \"Value Scheme Detailed\"])\n",
    "df_BSGM = pd.read_excel(xls, 'BSGM7',  usecols=[\"Variable\", \"Missing Scheme Detailed: SPSS\", \"Value Scheme Detailed\"])\n",
    "df_BTMM = pd.read_excel(xls, 'BTMM7',  usecols=[\"Variable\", \"Missing Scheme Detailed: SPSS\", \"Value Scheme Detailed\"])"
   ]
  },
  {
   "cell_type": "code",
   "execution_count": 4,
   "metadata": {},
   "outputs": [],
   "source": [
    "df_BCGM['Missing Scheme Detailed: SPSS'] = df_BCGM['Missing Scheme Detailed: SPSS'].str.split(':', expand=True).iloc[:, 0]\n",
    "df_BSGM['Missing Scheme Detailed: SPSS'] = df_BSGM['Missing Scheme Detailed: SPSS'].str.split(':', expand=True).iloc[:, 0]\n",
    "df_BTMM['Missing Scheme Detailed: SPSS'] = df_BTMM['Missing Scheme Detailed: SPSS'].str.split(':', expand=True).iloc[:, 0]"
   ]
  },
  {
   "cell_type": "markdown",
   "metadata": {},
   "source": [
    "Concat diffrent codebook's sheets"
   ]
  },
  {
   "cell_type": "code",
   "execution_count": 5,
   "metadata": {},
   "outputs": [],
   "source": [
    "commons = list(set(df.columns).intersection(set(df_BCGM['Variable'])))\n",
    "df_BCGM = df_BCGM.loc[df_BCGM['Variable'].isin(commons)]\n",
    "\n",
    "commons = list(set(df.columns).intersection(set(df_BSGM['Variable'])))\n",
    "df_BSGM = df_BSGM.loc[df_BSGM['Variable'].isin(commons)]\n",
    "\n",
    "commons = list(set(df.columns).intersection(set(df_BTMM['Variable'])))\n",
    "df_BTMM = df_BTMM.loc[df_BTMM['Variable'].isin(commons)]\n",
    "\n",
    "codebook = pd.concat([df_BCGM, df_BSGM, df_BTMM], ignore_index=True)\n",
    "codebook.drop_duplicates(subset='Variable', keep=False, inplace=True)"
   ]
  },
  {
   "cell_type": "markdown",
   "metadata": {},
   "source": [
    "### Missing Values"
   ]
  },
  {
   "cell_type": "code",
   "execution_count": 6,
   "metadata": {},
   "outputs": [],
   "source": [
    "for index, row in codebook.iterrows():\n",
    "    df[row['Variable']].replace(int(row['Missing Scheme Detailed: SPSS']), np.NaN, inplace=True)"
   ]
  },
  {
   "cell_type": "code",
   "execution_count": 7,
   "metadata": {},
   "outputs": [],
   "source": [
    "scores = ['finalscore', 'finalscorealgebra', 'finalscoredat', 'finalscoregeo', 'finalscorenum']\n",
    "\n",
    "df.dropna(subset=scores, how='any', inplace=True)"
   ]
  },
  {
   "cell_type": "markdown",
   "metadata": {},
   "source": [
    "Cleaning data\n",
    "\n",
    "- categorical : replace `np.NaN` with mode\n",
    "- numeric : replace with median"
   ]
  },
  {
   "cell_type": "code",
   "execution_count": 8,
   "metadata": {},
   "outputs": [],
   "source": [
    "for column in df.columns[11:]:\n",
    "    # categorical or numerical\n",
    "    cond = codebook.loc[codebook['Variable'] == column]['Missing Scheme Detailed: SPSS'] == 9\n",
    "    if cond.all():\n",
    "        # replace categorical with mode\n",
    "        df[column].fillna(df[column].mode()[0], inplace=True)\n",
    "    else:\n",
    "        # replace numerical with median\n",
    "        df[column].fillna(df[column].median(), inplace=True)\n"
   ]
  },
  {
   "cell_type": "markdown",
   "metadata": {},
   "source": [
    "### Outliers"
   ]
  },
  {
   "cell_type": "code",
   "execution_count": 9,
   "metadata": {},
   "outputs": [],
   "source": [
    "codebook['Value Scheme Detailed'].fillna('-', inplace=True)\n",
    "\n",
    "numerical_cols = []\n",
    "for index, row in codebook.iterrows():\n",
    "    if row['Value Scheme Detailed'] == '-':\n",
    "        numerical_cols.append(row.Variable)"
   ]
  },
  {
   "cell_type": "code",
   "execution_count": 10,
   "metadata": {},
   "outputs": [
    {
     "data": {
      "image/png": "[encoded data removed]",
      "text/plain": [
       "<Figure size 288x216 with 1 Axes>"
      ]
     },
     "metadata": {
      "needs_background": "light"
     },
     "output_type": "display_data"
    },
    {
     "data": {
      "image/png": "[encoded data removed]",
      "text/plain": [
       "<Figure size 288x216 with 1 Axes>"
      ]
     },
     "metadata": {
      "needs_background": "light"
     },
     "output_type": "display_data"
    },
    {
     "data": {
      "image/png": "[encoded data removed]",
      "text/plain": [
       "<Figure size 288x216 with 1 Axes>"
      ]
     },
     "metadata": {
      "needs_background": "light"
     },
     "output_type": "display_data"
    },
    {
     "data": {
      "image/png": "[encoded data removed]",
      "text/plain": [
       "<Figure size 288x216 with 1 Axes>"
      ]
     },
     "metadata": {
      "needs_background": "light"
     },
     "output_type": "display_data"
    },
    {
     "data": {
      "image/png": "[encoded data removed]",
      "text/plain": [
       "<Figure size 288x216 with 1 Axes>"
      ]
     },
     "metadata": {
      "needs_background": "light"
     },
     "output_type": "display_data"
    },
    {
     "data": {
      "image/png": "[encoded data removed]",
      "text/plain": [
       "<Figure size 288x216 with 1 Axes>"
      ]
     },
     "metadata": {
      "needs_background": "light"
     },
     "output_type": "display_data"
    },
    {
     "data": {
      "image/png": "[encoded data removed]",
      "text/plain": [
       "<Figure size 288x216 with 1 Axes>"
      ]
     },
     "metadata": {
      "needs_background": "light"
     },
     "output_type": "display_data"
    },
    {
     "data": {
      "image/png": "[encoded data removed]",
      "text/plain": [
       "<Figure size 288x216 with 1 Axes>"
      ]
     },
     "metadata": {
      "needs_background": "light"
     },
     "output_type": "display_data"
    },
    {
     "data": {
      "image/png": "[encoded data removed]",
      "text/plain": [
       "<Figure size 288x216 with 1 Axes>"
      ]
     },
     "metadata": {
      "needs_background": "light"
     },
     "output_type": "display_data"
    },
    {
     "data": {
      "image/png": "[encoded data removed]",
      "text/plain": [
       "<Figure size 288x216 with 1 Axes>"
      ]
     },
     "metadata": {
      "needs_background": "light"
     },
     "output_type": "display_data"
    },
    {
     "data": {
      "image/png": "[encoded data removed]",
      "text/plain": [
       "<Figure size 288x216 with 1 Axes>"
      ]
     },
     "metadata": {
      "needs_background": "light"
     },
     "output_type": "display_data"
    },
    {
     "data": {
      "image/png": "[encoded data removed]",
      "text/plain": [
       "<Figure size 288x216 with 1 Axes>"
      ]
     },
     "metadata": {
      "needs_background": "light"
     },
     "output_type": "display_data"
    },
    {
     "data": {
      "image/png": "[encoded data removed]",
      "text/plain": [
       "<Figure size 288x216 with 1 Axes>"
      ]
     },
     "metadata": {
      "needs_background": "light"
     },
     "output_type": "display_data"
    },
    {
     "data": {
      "image/png": "[encoded data removed]",
      "text/plain": [
       "<Figure size 288x216 with 1 Axes>"
      ]
     },
     "metadata": {
      "needs_background": "light"
     },
     "output_type": "display_data"
    },
    {
     "data": {
      "image/png": "[encoded data removed]",
      "text/plain": [
       "<Figure size 288x216 with 1 Axes>"
      ]
     },
     "metadata": {
      "needs_background": "light"
     },
     "output_type": "display_data"
    },
    {
     "data": {
      "image/png": "[encoded data removed]",
      "text/plain": [
       "<Figure size 288x216 with 1 Axes>"
      ]
     },
     "metadata": {
      "needs_background": "light"
     },
     "output_type": "display_data"
    },
    {
     "data": {
      "image/png": "[encoded data removed]",
      "text/plain": [
       "<Figure size 288x216 with 1 Axes>"
      ]
     },
     "metadata": {
      "needs_background": "light"
     },
     "output_type": "display_data"
    },
    {
     "data": {
      "image/png": "[encoded data removed]",
      "text/plain": [
       "<Figure size 288x216 with 1 Axes>"
      ]
     },
     "metadata": {
      "needs_background": "light"
     },
     "output_type": "display_data"
    },
    {
     "data": {
      "image/png": "[encoded data removed]",
      "text/plain": [
       "<Figure size 288x216 with 1 Axes>"
      ]
     },
     "metadata": {
      "needs_background": "light"
     },
     "output_type": "display_data"
    },
    {
     "data": {
      "image/png": "[encoded data removed]",
      "text/plain": [
       "<Figure size 288x216 with 1 Axes>"
      ]
     },
     "metadata": {
      "needs_background": "light"
     },
     "output_type": "display_data"
    },
    {
     "data": {
      "image/png": "[encoded data removed]",
      "text/plain": [
       "<Figure size 288x216 with 1 Axes>"
      ]
     },
     "metadata": {
      "needs_background": "light"
     },
     "output_type": "display_data"
    },
    {
     "data": {
      "image/png": "[encoded data removed]",
      "text/plain": [
       "<Figure size 288x216 with 1 Axes>"
      ]
     },
     "metadata": {
      "needs_background": "light"
     },
     "output_type": "display_data"
    },
    {
     "data": {
      "image/png": "[encoded data removed]",
      "text/plain": [
       "<Figure size 288x216 with 1 Axes>"
      ]
     },
     "metadata": {
      "needs_background": "light"
     },
     "output_type": "display_data"
    },
    {
     "data": {
      "image/png": "[encoded data removed]",
      "text/plain": [
       "<Figure size 288x216 with 1 Axes>"
      ]
     },
     "metadata": {
      "needs_background": "light"
     },
     "output_type": "display_data"
    },
    {
     "data": {
      "image/png": "[encoded data removed]",
      "text/plain": [
       "<Figure size 288x216 with 1 Axes>"
      ]
     },
     "metadata": {
      "needs_background": "light"
     },
     "output_type": "display_data"
    }
   ],
   "source": [
    "for column in numerical_cols:\n",
    "    plt.figure(figsize = (4 , 3))\n",
    "    sns.axes_style('darkgrid')\n",
    "    sns.boxplot(x=df[column])"
   ]
  },
  {
   "cell_type": "markdown",
   "metadata": {},
   "source": [
    "Outlier detection with z-score method"
   ]
  },
  {
   "cell_type": "code",
   "execution_count": 11,
   "metadata": {},
   "outputs": [],
   "source": [
    "for column in numerical_cols:\n",
    "    z_score = (df[column] - df[column].mean())/df[column].std(ddof=0)\n",
    "    mask = np.abs(z_score)>3.0\n",
    "    df.loc[mask, column] = df[column].mean()"
   ]
  },
  {
   "cell_type": "markdown",
   "metadata": {},
   "source": [
    "## Data Mining"
   ]
  },
  {
   "cell_type": "markdown",
   "metadata": {},
   "source": [
    "### Question 1"
   ]
  },
  {
   "cell_type": "code",
   "execution_count": 12,
   "metadata": {},
   "outputs": [
    {
     "data": {
      "text/html": [
       "<div>\n",
       "<style scoped>\n",
       "    .dataframe tbody tr th:only-of-type {\n",
       "        vertical-align: middle;\n",
       "    }\n",
       "\n",
       "    .dataframe tbody tr th {\n",
       "        vertical-align: top;\n",
       "    }\n",
       "\n",
       "    .dataframe thead th {\n",
       "        text-align: right;\n",
       "    }\n",
       "</style>\n",
       "<table border=\"1\" class=\"dataframe\">\n",
       "  <thead>\n",
       "    <tr style=\"text-align: right;\">\n",
       "      <th></th>\n",
       "      <th>finalscore</th>\n",
       "    </tr>\n",
       "  </thead>\n",
       "  <tbody>\n",
       "    <tr>\n",
       "      <th>BSBG01</th>\n",
       "      <td>0.008318</td>\n",
       "    </tr>\n",
       "    <tr>\n",
       "      <th>BSBG03</th>\n",
       "      <td>0.163941</td>\n",
       "    </tr>\n",
       "    <tr>\n",
       "      <th>BSBG04</th>\n",
       "      <td>0.335360</td>\n",
       "    </tr>\n",
       "    <tr>\n",
       "      <th>BSBG05A</th>\n",
       "      <td>0.213101</td>\n",
       "    </tr>\n",
       "    <tr>\n",
       "      <th>BSBG05B</th>\n",
       "      <td>0.224614</td>\n",
       "    </tr>\n",
       "    <tr>\n",
       "      <th>...</th>\n",
       "      <td>...</td>\n",
       "    </tr>\n",
       "    <tr>\n",
       "      <th>BTDMMME</th>\n",
       "      <td>0.017381</td>\n",
       "    </tr>\n",
       "    <tr>\n",
       "      <th>BTDMNUM</th>\n",
       "      <td>0.081669</td>\n",
       "    </tr>\n",
       "    <tr>\n",
       "      <th>BTDMALG</th>\n",
       "      <td>0.002409</td>\n",
       "    </tr>\n",
       "    <tr>\n",
       "      <th>BTDMGEO</th>\n",
       "      <td>0.010073</td>\n",
       "    </tr>\n",
       "    <tr>\n",
       "      <th>BTDMDAT</th>\n",
       "      <td>0.015035</td>\n",
       "    </tr>\n",
       "  </tbody>\n",
       "</table>\n",
       "<p>325 rows × 1 columns</p>\n",
       "</div>"
      ],
      "text/plain": [
       "         finalscore\n",
       "BSBG01     0.008318\n",
       "BSBG03     0.163941\n",
       "BSBG04     0.335360\n",
       "BSBG05A    0.213101\n",
       "BSBG05B    0.224614\n",
       "...             ...\n",
       "BTDMMME    0.017381\n",
       "BTDMNUM    0.081669\n",
       "BTDMALG    0.002409\n",
       "BTDMGEO    0.010073\n",
       "BTDMDAT    0.015035\n",
       "\n",
       "[325 rows x 1 columns]"
      ]
     },
     "execution_count": 12,
     "metadata": {},
     "output_type": "execute_result"
    }
   ],
   "source": [
    "corr = df.iloc[:,2:].corr()\n",
    "corr = abs(corr[[\"finalscore\"]])\n",
    "corr = corr[9:]\n",
    "corr\n",
    "# UNCOMMENT THIS LINE FOR VISUALIZE ALL CORROLATIONS\n",
    "# corr.style.background_gradient(cmap='coolwarm')"
   ]
  },
  {
   "cell_type": "code",
   "execution_count": 13,
   "metadata": {},
   "outputs": [
    {
     "data": {
      "text/html": [
       "<style type=\"text/css\">\n",
       "#T_0427d_row0_col0 {\n",
       "  background-color: #b40426;\n",
       "  color: #f1f1f1;\n",
       "}\n",
       "#T_0427d_row1_col0 {\n",
       "  background-color: #f5c2aa;\n",
       "  color: #000000;\n",
       "}\n",
       "#T_0427d_row2_col0 {\n",
       "  background-color: #f2cab5;\n",
       "  color: #000000;\n",
       "}\n",
       "#T_0427d_row3_col0 {\n",
       "  background-color: #455cce;\n",
       "  color: #f1f1f1;\n",
       "}\n",
       "#T_0427d_row4_col0 {\n",
       "  background-color: #3b4cc0;\n",
       "  color: #f1f1f1;\n",
       "}\n",
       "</style>\n",
       "<table id=\"T_0427d\">\n",
       "  <thead>\n",
       "    <tr>\n",
       "      <th class=\"blank level0\" >&nbsp;</th>\n",
       "      <th id=\"T_0427d_level0_col0\" class=\"col_heading level0 col0\" >finalscore</th>\n",
       "    </tr>\n",
       "  </thead>\n",
       "  <tbody>\n",
       "    <tr>\n",
       "      <th id=\"T_0427d_level0_row0\" class=\"row_heading level0 row0\" >BSBGSCM</th>\n",
       "      <td id=\"T_0427d_row0_col0\" class=\"data row0 col0\" >0.414847</td>\n",
       "    </tr>\n",
       "    <tr>\n",
       "      <th id=\"T_0427d_level0_row1\" class=\"row_heading level0 row1\" >BSBGHER</th>\n",
       "      <td id=\"T_0427d_row1_col0\" class=\"data row1 col0\" >0.385587</td>\n",
       "    </tr>\n",
       "    <tr>\n",
       "      <th id=\"T_0427d_level0_row2\" class=\"row_heading level0 row2\" >BSDGSCM</th>\n",
       "      <td id=\"T_0427d_row2_col0\" class=\"data row2 col0\" >0.383404</td>\n",
       "    </tr>\n",
       "    <tr>\n",
       "      <th id=\"T_0427d_level0_row3\" class=\"row_heading level0 row3\" >BSBM19H</th>\n",
       "      <td id=\"T_0427d_row3_col0\" class=\"data row3 col0\" >0.338220</td>\n",
       "    </tr>\n",
       "    <tr>\n",
       "      <th id=\"T_0427d_level0_row4\" class=\"row_heading level0 row4\" >BSBG04</th>\n",
       "      <td id=\"T_0427d_row4_col0\" class=\"data row4 col0\" >0.335360</td>\n",
       "    </tr>\n",
       "  </tbody>\n",
       "</table>\n"
      ],
      "text/plain": [
       "<pandas.io.formats.style.Styler at 0x266efbb71f0>"
      ]
     },
     "execution_count": 13,
     "metadata": {},
     "output_type": "execute_result"
    }
   ],
   "source": [
    "top5 = corr.sort_values(by='finalscore', ascending=False)[:5]\n",
    "top5.style.background_gradient(cmap='coolwarm')"
   ]
  },
  {
   "cell_type": "markdown",
   "metadata": {},
   "source": [
    "As observed in the above figure, 5 factors affect the students' scores, including variables *BSBGSCM*, *BSBGHER*, *BSDGSCM*, *BSBM19H*, and *BSBG04*. According to the guide, the variable *BSBGSCM* represents the level of self-confidence of the student, and the variable *BSBGHER* indicates educational resources at home."
   ]
  },
  {
   "cell_type": "markdown",
   "metadata": {},
   "source": [
    "### Question 2"
   ]
  },
  {
   "cell_type": "code",
   "execution_count": 14,
   "metadata": {},
   "outputs": [
    {
     "data": {
      "text/html": [
       "<div>\n",
       "<style scoped>\n",
       "    .dataframe tbody tr th:only-of-type {\n",
       "        vertical-align: middle;\n",
       "    }\n",
       "\n",
       "    .dataframe tbody tr th {\n",
       "        vertical-align: top;\n",
       "    }\n",
       "\n",
       "    .dataframe thead th {\n",
       "        text-align: right;\n",
       "    }\n",
       "</style>\n",
       "<table border=\"1\" class=\"dataframe\">\n",
       "  <thead>\n",
       "    <tr style=\"text-align: right;\">\n",
       "      <th></th>\n",
       "      <th>finalscore</th>\n",
       "    </tr>\n",
       "  </thead>\n",
       "  <tbody>\n",
       "    <tr>\n",
       "      <th>BSBG03</th>\n",
       "      <td>0.061499</td>\n",
       "    </tr>\n",
       "    <tr>\n",
       "      <th>BSBG04</th>\n",
       "      <td>0.080202</td>\n",
       "    </tr>\n",
       "    <tr>\n",
       "      <th>BSBG05A</th>\n",
       "      <td>0.045242</td>\n",
       "    </tr>\n",
       "    <tr>\n",
       "      <th>BSBG05B</th>\n",
       "      <td>0.066463</td>\n",
       "    </tr>\n",
       "    <tr>\n",
       "      <th>BSBG05C</th>\n",
       "      <td>0.015174</td>\n",
       "    </tr>\n",
       "    <tr>\n",
       "      <th>...</th>\n",
       "      <td>...</td>\n",
       "    </tr>\n",
       "    <tr>\n",
       "      <th>BTDMMME</th>\n",
       "      <td>0.025287</td>\n",
       "    </tr>\n",
       "    <tr>\n",
       "      <th>BTDMNUM</th>\n",
       "      <td>0.123734</td>\n",
       "    </tr>\n",
       "    <tr>\n",
       "      <th>BTDMALG</th>\n",
       "      <td>-0.008217</td>\n",
       "    </tr>\n",
       "    <tr>\n",
       "      <th>BTDMGEO</th>\n",
       "      <td>-0.023476</td>\n",
       "    </tr>\n",
       "    <tr>\n",
       "      <th>BTDMDAT</th>\n",
       "      <td>0.009905</td>\n",
       "    </tr>\n",
       "  </tbody>\n",
       "</table>\n",
       "<p>324 rows × 1 columns</p>\n",
       "</div>"
      ],
      "text/plain": [
       "         finalscore\n",
       "BSBG03     0.061499\n",
       "BSBG04     0.080202\n",
       "BSBG05A    0.045242\n",
       "BSBG05B    0.066463\n",
       "BSBG05C    0.015174\n",
       "...             ...\n",
       "BTDMMME    0.025287\n",
       "BTDMNUM    0.123734\n",
       "BTDMALG   -0.008217\n",
       "BTDMGEO   -0.023476\n",
       "BTDMDAT    0.009905\n",
       "\n",
       "[324 rows x 1 columns]"
      ]
     },
     "execution_count": 14,
     "metadata": {},
     "output_type": "execute_result"
    }
   ],
   "source": [
    "boy_df = df.loc[df['BSBG01'] == 2]\n",
    "girl_df = df.loc[df['BSBG01'] == 1]\n",
    "\n",
    "corr_boy = boy_df.iloc[:, 2:].corr()\n",
    "corr_boy_target = abs(corr_boy[[\"finalscore\"]])\n",
    "corr_boy_target = corr_boy_target[10:]\n",
    "\n",
    "corr_girl = girl_df.iloc[:, 2:].corr()\n",
    "corr_girl_target = abs(corr_girl[[\"finalscore\"]])\n",
    "corr_girl_target = corr_girl_target[10:]\n",
    "\n",
    "corr_dif = corr_boy_target - corr_girl_target\n",
    "corr_dif\n",
    "# UNCOMMENT THIS LINE FOR VISUALIZE ALL CORROLATIONS\n",
    "# corr_dif.style.background_gradient(cmap='coolwarm')\n"
   ]
  },
  {
   "cell_type": "code",
   "execution_count": 15,
   "metadata": {},
   "outputs": [
    {
     "data": {
      "text/html": [
       "<style type=\"text/css\">\n",
       "#T_ae267_row0_col0 {\n",
       "  background-color: #b40426;\n",
       "  color: #f1f1f1;\n",
       "}\n",
       "#T_ae267_row1_col0 {\n",
       "  background-color: #f7b599;\n",
       "  color: #000000;\n",
       "}\n",
       "#T_ae267_row2_col0 {\n",
       "  background-color: #f2cbb7;\n",
       "  color: #000000;\n",
       "}\n",
       "#T_ae267_row3_col0 {\n",
       "  background-color: #6384eb;\n",
       "  color: #f1f1f1;\n",
       "}\n",
       "#T_ae267_row4_col0 {\n",
       "  background-color: #3b4cc0;\n",
       "  color: #f1f1f1;\n",
       "}\n",
       "</style>\n",
       "<table id=\"T_ae267\">\n",
       "  <thead>\n",
       "    <tr>\n",
       "      <th class=\"blank level0\" >&nbsp;</th>\n",
       "      <th id=\"T_ae267_level0_col0\" class=\"col_heading level0 col0\" >finalscore</th>\n",
       "    </tr>\n",
       "  </thead>\n",
       "  <tbody>\n",
       "    <tr>\n",
       "      <th id=\"T_ae267_level0_row0\" class=\"row_heading level0 row0\" >BCBG03B</th>\n",
       "      <td id=\"T_ae267_row0_col0\" class=\"data row0 col0\" >0.221271</td>\n",
       "    </tr>\n",
       "    <tr>\n",
       "      <th id=\"T_ae267_level0_row1\" class=\"row_heading level0 row1\" >BCBG09</th>\n",
       "      <td id=\"T_ae267_row1_col0\" class=\"data row1 col0\" >0.203242</td>\n",
       "    </tr>\n",
       "    <tr>\n",
       "      <th id=\"T_ae267_level0_row2\" class=\"row_heading level0 row2\" >BCBG20</th>\n",
       "      <td id=\"T_ae267_row2_col0\" class=\"data row2 col0\" >0.199025</td>\n",
       "    </tr>\n",
       "    <tr>\n",
       "      <th id=\"T_ae267_level0_row3\" class=\"row_heading level0 row3\" >BCBG15E</th>\n",
       "      <td id=\"T_ae267_row3_col0\" class=\"data row3 col0\" >0.172964</td>\n",
       "    </tr>\n",
       "    <tr>\n",
       "      <th id=\"T_ae267_level0_row4\" class=\"row_heading level0 row4\" >BCBG14E</th>\n",
       "      <td id=\"T_ae267_row4_col0\" class=\"data row4 col0\" >0.165808</td>\n",
       "    </tr>\n",
       "  </tbody>\n",
       "</table>\n"
      ],
      "text/plain": [
       "<pandas.io.formats.style.Styler at 0x26683373be0>"
      ]
     },
     "execution_count": 15,
     "metadata": {},
     "output_type": "execute_result"
    }
   ],
   "source": [
    "top5 = corr_dif.sort_values(by='finalscore', ascending=False)[:5]\n",
    "top5.style.background_gradient(cmap='coolwarm')"
   ]
  },
  {
   "cell_type": "markdown",
   "metadata": {},
   "source": [
    "Let's first separate the data related to female and male students, and calculate the correlation separately for each of the two groups. The difference between these two values ​​shows the difference in the effect of each background factor on female and male students. After applying the above calculations, the results indicate that there is no significant difference between female and male students. However, the greatest difference is related to the factors *BSBG03B*, *BCBG09*, *BCBG20*, *BCBG15E*, and *BCBG14E*."
   ]
  },
  {
   "cell_type": "markdown",
   "metadata": {},
   "source": [
    "### Question 3"
   ]
  },
  {
   "cell_type": "code",
   "execution_count": 16,
   "metadata": {},
   "outputs": [
    {
     "data": {
      "text/html": [
       "<div>\n",
       "<style scoped>\n",
       "    .dataframe tbody tr th:only-of-type {\n",
       "        vertical-align: middle;\n",
       "    }\n",
       "\n",
       "    .dataframe tbody tr th {\n",
       "        vertical-align: top;\n",
       "    }\n",
       "\n",
       "    .dataframe thead th {\n",
       "        text-align: right;\n",
       "    }\n",
       "</style>\n",
       "<table border=\"1\" class=\"dataframe\">\n",
       "  <thead>\n",
       "    <tr style=\"text-align: right;\">\n",
       "      <th></th>\n",
       "      <th>finalscorealgebra</th>\n",
       "      <th>finalscoredat</th>\n",
       "      <th>finalscoregeo</th>\n",
       "      <th>finalscorenum</th>\n",
       "    </tr>\n",
       "  </thead>\n",
       "  <tbody>\n",
       "    <tr>\n",
       "      <th>BSBG01</th>\n",
       "      <td>0.056419</td>\n",
       "      <td>0.009109</td>\n",
       "      <td>0.011321</td>\n",
       "      <td>0.027655</td>\n",
       "    </tr>\n",
       "    <tr>\n",
       "      <th>BSBG03</th>\n",
       "      <td>0.138795</td>\n",
       "      <td>0.097750</td>\n",
       "      <td>0.089058</td>\n",
       "      <td>0.109112</td>\n",
       "    </tr>\n",
       "    <tr>\n",
       "      <th>BSBG04</th>\n",
       "      <td>0.272435</td>\n",
       "      <td>0.204799</td>\n",
       "      <td>0.200901</td>\n",
       "      <td>0.282764</td>\n",
       "    </tr>\n",
       "    <tr>\n",
       "      <th>BSBG05A</th>\n",
       "      <td>0.179311</td>\n",
       "      <td>0.136693</td>\n",
       "      <td>0.122227</td>\n",
       "      <td>0.165845</td>\n",
       "    </tr>\n",
       "    <tr>\n",
       "      <th>BSBG05B</th>\n",
       "      <td>0.184595</td>\n",
       "      <td>0.138413</td>\n",
       "      <td>0.128743</td>\n",
       "      <td>0.156723</td>\n",
       "    </tr>\n",
       "    <tr>\n",
       "      <th>...</th>\n",
       "      <td>...</td>\n",
       "      <td>...</td>\n",
       "      <td>...</td>\n",
       "      <td>...</td>\n",
       "    </tr>\n",
       "    <tr>\n",
       "      <th>BTDMMME</th>\n",
       "      <td>0.001154</td>\n",
       "      <td>0.021079</td>\n",
       "      <td>0.015226</td>\n",
       "      <td>0.023166</td>\n",
       "    </tr>\n",
       "    <tr>\n",
       "      <th>BTDMNUM</th>\n",
       "      <td>0.071172</td>\n",
       "      <td>0.045965</td>\n",
       "      <td>0.043856</td>\n",
       "      <td>0.054799</td>\n",
       "    </tr>\n",
       "    <tr>\n",
       "      <th>BTDMALG</th>\n",
       "      <td>0.003198</td>\n",
       "      <td>0.008895</td>\n",
       "      <td>0.002337</td>\n",
       "      <td>0.003454</td>\n",
       "    </tr>\n",
       "    <tr>\n",
       "      <th>BTDMGEO</th>\n",
       "      <td>0.012209</td>\n",
       "      <td>0.005618</td>\n",
       "      <td>0.003133</td>\n",
       "      <td>0.017537</td>\n",
       "    </tr>\n",
       "    <tr>\n",
       "      <th>BTDMDAT</th>\n",
       "      <td>0.007002</td>\n",
       "      <td>0.014120</td>\n",
       "      <td>0.003764</td>\n",
       "      <td>0.025131</td>\n",
       "    </tr>\n",
       "  </tbody>\n",
       "</table>\n",
       "<p>325 rows × 4 columns</p>\n",
       "</div>"
      ],
      "text/plain": [
       "         finalscorealgebra  finalscoredat  finalscoregeo  finalscorenum\n",
       "BSBG01            0.056419       0.009109       0.011321       0.027655\n",
       "BSBG03            0.138795       0.097750       0.089058       0.109112\n",
       "BSBG04            0.272435       0.204799       0.200901       0.282764\n",
       "BSBG05A           0.179311       0.136693       0.122227       0.165845\n",
       "BSBG05B           0.184595       0.138413       0.128743       0.156723\n",
       "...                    ...            ...            ...            ...\n",
       "BTDMMME           0.001154       0.021079       0.015226       0.023166\n",
       "BTDMNUM           0.071172       0.045965       0.043856       0.054799\n",
       "BTDMALG           0.003198       0.008895       0.002337       0.003454\n",
       "BTDMGEO           0.012209       0.005618       0.003133       0.017537\n",
       "BTDMDAT           0.007002       0.014120       0.003764       0.025131\n",
       "\n",
       "[325 rows x 4 columns]"
      ]
     },
     "execution_count": 16,
     "metadata": {},
     "output_type": "execute_result"
    }
   ],
   "source": [
    "corr = df.iloc[:,2:].corr()\n",
    "corr = abs(corr[[\"finalscorealgebra\", \"finalscoredat\", \"finalscoregeo\", \"finalscorenum\"]])\n",
    "corr = corr[9:]\n",
    "corr\n",
    "# UNCOMMENT THIS LINE FOR VISUALIZE ALL CORROLATIONS\n",
    "# corr.style.background_gradient(cmap='coolwarm')"
   ]
  },
  {
   "cell_type": "code",
   "execution_count": 17,
   "metadata": {},
   "outputs": [
    {
     "data": {
      "text/html": [
       "<style type=\"text/css\">\n",
       "#T_889e1_row0_col0 {\n",
       "  background-color: #b40426;\n",
       "  color: #f1f1f1;\n",
       "}\n",
       "#T_889e1_row1_col0 {\n",
       "  background-color: #f5c4ac;\n",
       "  color: #000000;\n",
       "}\n",
       "#T_889e1_row2_col0 {\n",
       "  background-color: #ead4c8;\n",
       "  color: #000000;\n",
       "}\n",
       "#T_889e1_row3_col0 {\n",
       "  background-color: #4961d2;\n",
       "  color: #f1f1f1;\n",
       "}\n",
       "#T_889e1_row4_col0 {\n",
       "  background-color: #3b4cc0;\n",
       "  color: #f1f1f1;\n",
       "}\n",
       "</style>\n",
       "<table id=\"T_889e1\">\n",
       "  <thead>\n",
       "    <tr>\n",
       "      <th class=\"blank level0\" >&nbsp;</th>\n",
       "      <th id=\"T_889e1_level0_col0\" class=\"col_heading level0 col0\" >finalscorealgebra</th>\n",
       "    </tr>\n",
       "  </thead>\n",
       "  <tbody>\n",
       "    <tr>\n",
       "      <th id=\"T_889e1_level0_row0\" class=\"row_heading level0 row0\" >BSBGSCM</th>\n",
       "      <td id=\"T_889e1_row0_col0\" class=\"data row0 col0\" >0.350379</td>\n",
       "    </tr>\n",
       "    <tr>\n",
       "      <th id=\"T_889e1_level0_row1\" class=\"row_heading level0 row1\" >BSDGSCM</th>\n",
       "      <td id=\"T_889e1_row1_col0\" class=\"data row1 col0\" >0.321366</td>\n",
       "    </tr>\n",
       "    <tr>\n",
       "      <th id=\"T_889e1_level0_row2\" class=\"row_heading level0 row2\" >BSBGHER</th>\n",
       "      <td id=\"T_889e1_row2_col0\" class=\"data row2 col0\" >0.315942</td>\n",
       "    </tr>\n",
       "    <tr>\n",
       "      <th id=\"T_889e1_level0_row3\" class=\"row_heading level0 row3\" >BSBM19H</th>\n",
       "      <td id=\"T_889e1_row3_col0\" class=\"data row3 col0\" >0.276110</td>\n",
       "    </tr>\n",
       "    <tr>\n",
       "      <th id=\"T_889e1_level0_row4\" class=\"row_heading level0 row4\" >BSBG04</th>\n",
       "      <td id=\"T_889e1_row4_col0\" class=\"data row4 col0\" >0.272435</td>\n",
       "    </tr>\n",
       "  </tbody>\n",
       "</table>\n"
      ],
      "text/plain": [
       "<pandas.io.formats.style.Styler at 0x266833735e0>"
      ]
     },
     "execution_count": 17,
     "metadata": {},
     "output_type": "execute_result"
    }
   ],
   "source": [
    "top5_alg = corr[['finalscorealgebra']].sort_values(by='finalscorealgebra', ascending=False)[:5]\n",
    "top5_alg.style.background_gradient(cmap='coolwarm')"
   ]
  },
  {
   "cell_type": "code",
   "execution_count": 18,
   "metadata": {},
   "outputs": [
    {
     "data": {
      "text/html": [
       "<style type=\"text/css\">\n",
       "#T_95467_row0_col0 {\n",
       "  background-color: #b40426;\n",
       "  color: #f1f1f1;\n",
       "}\n",
       "#T_95467_row1_col0 {\n",
       "  background-color: #f6bea4;\n",
       "  color: #000000;\n",
       "}\n",
       "#T_95467_row2_col0 {\n",
       "  background-color: #c9d7f0;\n",
       "  color: #000000;\n",
       "}\n",
       "#T_95467_row3_col0 {\n",
       "  background-color: #3c4ec2;\n",
       "  color: #f1f1f1;\n",
       "}\n",
       "#T_95467_row4_col0 {\n",
       "  background-color: #3b4cc0;\n",
       "  color: #f1f1f1;\n",
       "}\n",
       "</style>\n",
       "<table id=\"T_95467\">\n",
       "  <thead>\n",
       "    <tr>\n",
       "      <th class=\"blank level0\" >&nbsp;</th>\n",
       "      <th id=\"T_95467_level0_col0\" class=\"col_heading level0 col0\" >finalscoredat</th>\n",
       "    </tr>\n",
       "  </thead>\n",
       "  <tbody>\n",
       "    <tr>\n",
       "      <th id=\"T_95467_level0_row0\" class=\"row_heading level0 row0\" >BSBGHER</th>\n",
       "      <td id=\"T_95467_row0_col0\" class=\"data row0 col0\" >0.232233</td>\n",
       "    </tr>\n",
       "    <tr>\n",
       "      <th id=\"T_95467_level0_row1\" class=\"row_heading level0 row1\" >BSBGSCM</th>\n",
       "      <td id=\"T_95467_row1_col0\" class=\"data row1 col0\" >0.222503</td>\n",
       "    </tr>\n",
       "    <tr>\n",
       "      <th id=\"T_95467_level0_row2\" class=\"row_heading level0 row2\" >BSDGSCM</th>\n",
       "      <td id=\"T_95467_row2_col0\" class=\"data row2 col0\" >0.216491</td>\n",
       "    </tr>\n",
       "    <tr>\n",
       "      <th id=\"T_95467_level0_row3\" class=\"row_heading level0 row3\" >BSBG04</th>\n",
       "      <td id=\"T_95467_row3_col0\" class=\"data row3 col0\" >0.204799</td>\n",
       "    </tr>\n",
       "    <tr>\n",
       "      <th id=\"T_95467_level0_row4\" class=\"row_heading level0 row4\" >BSDGHER</th>\n",
       "      <td id=\"T_95467_row4_col0\" class=\"data row4 col0\" >0.204677</td>\n",
       "    </tr>\n",
       "  </tbody>\n",
       "</table>\n"
      ],
      "text/plain": [
       "<pandas.io.formats.style.Styler at 0x266ee828c40>"
      ]
     },
     "execution_count": 18,
     "metadata": {},
     "output_type": "execute_result"
    }
   ],
   "source": [
    "top5_dat = corr[['finalscoredat']].sort_values(by='finalscoredat', ascending=False)[:5]\n",
    "top5_dat.style.background_gradient(cmap='coolwarm')"
   ]
  },
  {
   "cell_type": "code",
   "execution_count": 19,
   "metadata": {},
   "outputs": [
    {
     "data": {
      "text/html": [
       "<style type=\"text/css\">\n",
       "#T_172f0_row0_col0 {\n",
       "  background-color: #b40426;\n",
       "  color: #f1f1f1;\n",
       "}\n",
       "#T_172f0_row1_col0 {\n",
       "  background-color: #f6bea4;\n",
       "  color: #000000;\n",
       "}\n",
       "#T_172f0_row2_col0 {\n",
       "  background-color: #ecd3c5;\n",
       "  color: #000000;\n",
       "}\n",
       "#T_172f0_row3_col0 {\n",
       "  background-color: #4055c8;\n",
       "  color: #f1f1f1;\n",
       "}\n",
       "#T_172f0_row4_col0 {\n",
       "  background-color: #3b4cc0;\n",
       "  color: #f1f1f1;\n",
       "}\n",
       "</style>\n",
       "<table id=\"T_172f0\">\n",
       "  <thead>\n",
       "    <tr>\n",
       "      <th class=\"blank level0\" >&nbsp;</th>\n",
       "      <th id=\"T_172f0_level0_col0\" class=\"col_heading level0 col0\" >finalscoregeo</th>\n",
       "    </tr>\n",
       "  </thead>\n",
       "  <tbody>\n",
       "    <tr>\n",
       "      <th id=\"T_172f0_level0_row0\" class=\"row_heading level0 row0\" >BSBGSCM</th>\n",
       "      <td id=\"T_172f0_row0_col0\" class=\"data row0 col0\" >0.249574</td>\n",
       "    </tr>\n",
       "    <tr>\n",
       "      <th id=\"T_172f0_level0_row1\" class=\"row_heading level0 row1\" >BSBGHER</th>\n",
       "      <td id=\"T_172f0_row1_col0\" class=\"data row1 col0\" >0.233903</td>\n",
       "    </tr>\n",
       "    <tr>\n",
       "      <th id=\"T_172f0_level0_row2\" class=\"row_heading level0 row2\" >BSDGSCM</th>\n",
       "      <td id=\"T_172f0_row2_col0\" class=\"data row2 col0\" >0.230207</td>\n",
       "    </tr>\n",
       "    <tr>\n",
       "      <th id=\"T_172f0_level0_row3\" class=\"row_heading level0 row3\" >BSDGEDUP</th>\n",
       "      <td id=\"T_172f0_row3_col0\" class=\"data row3 col0\" >0.206009</td>\n",
       "    </tr>\n",
       "    <tr>\n",
       "      <th id=\"T_172f0_level0_row4\" class=\"row_heading level0 row4\" >BSBM19H</th>\n",
       "      <td id=\"T_172f0_row4_col0\" class=\"data row4 col0\" >0.205048</td>\n",
       "    </tr>\n",
       "  </tbody>\n",
       "</table>\n"
      ],
      "text/plain": [
       "<pandas.io.formats.style.Styler at 0x26683373190>"
      ]
     },
     "execution_count": 19,
     "metadata": {},
     "output_type": "execute_result"
    }
   ],
   "source": [
    "top5_geo = corr[['finalscoregeo']].sort_values(by='finalscoregeo', ascending=False)[:5]\n",
    "top5_geo.style.background_gradient(cmap='coolwarm')"
   ]
  },
  {
   "cell_type": "code",
   "execution_count": 20,
   "metadata": {},
   "outputs": [
    {
     "data": {
      "text/html": [
       "<style type=\"text/css\">\n",
       "#T_58ebb_row0_col0 {\n",
       "  background-color: #b40426;\n",
       "  color: #f1f1f1;\n",
       "}\n",
       "#T_58ebb_row1_col0 {\n",
       "  background-color: #e5d8d1;\n",
       "  color: #000000;\n",
       "}\n",
       "#T_58ebb_row2_col0 {\n",
       "  background-color: #e1dad6;\n",
       "  color: #000000;\n",
       "}\n",
       "#T_58ebb_row3_col0 {\n",
       "  background-color: #5b7ae5;\n",
       "  color: #f1f1f1;\n",
       "}\n",
       "#T_58ebb_row4_col0 {\n",
       "  background-color: #3b4cc0;\n",
       "  color: #f1f1f1;\n",
       "}\n",
       "</style>\n",
       "<table id=\"T_58ebb\">\n",
       "  <thead>\n",
       "    <tr>\n",
       "      <th class=\"blank level0\" >&nbsp;</th>\n",
       "      <th id=\"T_58ebb_level0_col0\" class=\"col_heading level0 col0\" >finalscorenum</th>\n",
       "    </tr>\n",
       "  </thead>\n",
       "  <tbody>\n",
       "    <tr>\n",
       "      <th id=\"T_58ebb_level0_row0\" class=\"row_heading level0 row0\" >BSBGSCM</th>\n",
       "      <td id=\"T_58ebb_row0_col0\" class=\"data row0 col0\" >0.351194</td>\n",
       "    </tr>\n",
       "    <tr>\n",
       "      <th id=\"T_58ebb_level0_row1\" class=\"row_heading level0 row1\" >BSDGSCM</th>\n",
       "      <td id=\"T_58ebb_row1_col0\" class=\"data row1 col0\" >0.319256</td>\n",
       "    </tr>\n",
       "    <tr>\n",
       "      <th id=\"T_58ebb_level0_row2\" class=\"row_heading level0 row2\" >BSBGHER</th>\n",
       "      <td id=\"T_58ebb_row2_col0\" class=\"data row2 col0\" >0.318300</td>\n",
       "    </tr>\n",
       "    <tr>\n",
       "      <th id=\"T_58ebb_level0_row3\" class=\"row_heading level0 row3\" >BSBM19H</th>\n",
       "      <td id=\"T_58ebb_row3_col0\" class=\"data row3 col0\" >0.290074</td>\n",
       "    </tr>\n",
       "    <tr>\n",
       "      <th id=\"T_58ebb_level0_row4\" class=\"row_heading level0 row4\" >BSBG04</th>\n",
       "      <td id=\"T_58ebb_row4_col0\" class=\"data row4 col0\" >0.282764</td>\n",
       "    </tr>\n",
       "  </tbody>\n",
       "</table>\n"
      ],
      "text/plain": [
       "<pandas.io.formats.style.Styler at 0x266832b03a0>"
      ]
     },
     "execution_count": 20,
     "metadata": {},
     "output_type": "execute_result"
    }
   ],
   "source": [
    "top5_num = corr[['finalscorenum']].sort_values(by='finalscorenum', ascending=False)[:5]\n",
    "top5_num.style.background_gradient(cmap='coolwarm')"
   ]
  },
  {
   "cell_type": "markdown",
   "metadata": {},
   "source": [
    "The above tables show the top 5 factors influencing the grades of students in different sections such as engineering, algebra, etc., and the level of impact of each one. According to the table, the factor *BSBGSCM* has the greatest impact on algebra grades, *BSBGHER* on data grades, *BSBGSCM* on geometry grades, and *BSBGCM* on number grades."
   ]
  }
 ],
 "metadata": {
  "interpreter": {
   "hash": "ecf5722fdaf1897a315d257d89d94520bfcaa453217d5becf09b39e73618b0de"
  },
  "kernelspec": {
   "display_name": "Python 3.9.7 ('base')",
   "language": "python",
   "name": "python3"
  },
  "language_info": {
   "codemirror_mode": {
    "name": "ipython",
    "version": 3
   },
   "file_extension": ".py",
   "mimetype": "text/x-python",
   "name": "python",
   "nbconvert_exporter": "python",
   "pygments_lexer": "ipython3",
   "version": "3.9.7"
  },
  "orig_nbformat": 4
 },
 "nbformat": 4,
 "nbformat_minor": 2
}
